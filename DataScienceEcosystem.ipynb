{
 "cells": [
  {
   "cell_type": "markdown",
   "id": "6e633c57",
   "metadata": {},
   "source": [
    "title of the notebook"
   ]
  },
  {
   "cell_type": "markdown",
   "id": "edff4d72",
   "metadata": {},
   "source": [
    "# Data Science Tools and Ecosystem"
   ]
  },
  {
   "cell_type": "markdown",
   "id": "c473e03d",
   "metadata": {},
   "source": [
    "introduction"
   ]
  },
  {
   "cell_type": "markdown",
   "id": "25ae4cff",
   "metadata": {},
   "source": [
    "In this notebook, Data Science Tools and Ecosystem are summarized."
   ]
  },
  {
   "cell_type": "markdown",
   "id": "1534bf76",
   "metadata": {},
   "source": [
    "list data science languages"
   ]
  },
  {
   "cell_type": "markdown",
   "id": "132bc28f",
   "metadata": {},
   "source": [
    "Some of the popular languages that Data Scientists use are:\n",
    "1. Python\n",
    "2. Java\n",
    "3. R"
   ]
  },
  {
   "cell_type": "markdown",
   "id": "02ca2469",
   "metadata": {},
   "source": [
    "list data science libraries"
   ]
  },
  {
   "cell_type": "markdown",
   "id": "9b38832d",
   "metadata": {},
   "source": [
    "Some of the commonly used libraries used by Data Scientists include:\n",
    "1. Scikit-learn\n",
    "2. Vegas\n",
    "3. ggplot2"
   ]
  },
  {
   "cell_type": "markdown",
   "id": "18ac7b81",
   "metadata": {},
   "source": [
    "table of Data Science tools"
   ]
  },
  {
   "cell_type": "markdown",
   "id": "60debc7e",
   "metadata": {},
   "source": [
    "|Data Science Tools|\n",
    "| ---------------- |\n",
    "| Jupyter Notebooks |\n",
    "| MySQL |\n",
    "| GitLab |"
   ]
  },
  {
   "cell_type": "markdown",
   "id": "802655fe",
   "metadata": {},
   "source": [
    "introducing arithmetic expression examples"
   ]
  },
  {
   "cell_type": "markdown",
   "id": "28d21644",
   "metadata": {},
   "source": [
    "### Below are a few examples of evaluating arithmetic expressions in Python"
   ]
  },
  {
   "cell_type": "markdown",
   "id": "654ed00d",
   "metadata": {},
   "source": [
    "multiply and add numbers"
   ]
  },
  {
   "cell_type": "code",
   "execution_count": 1,
   "id": "d15dea51",
   "metadata": {},
   "outputs": [
    {
     "data": {
      "text/plain": [
       "17"
      ]
     },
     "execution_count": 1,
     "metadata": {},
     "output_type": "execute_result"
    }
   ],
   "source": [
    "# This a simple arithmetic expression to mutiply then add integers\n",
    "(3*4)+5"
   ]
  },
  {
   "cell_type": "markdown",
   "id": "f524774e",
   "metadata": {},
   "source": [
    "convert minutes to hours"
   ]
  },
  {
   "cell_type": "code",
   "execution_count": 2,
   "id": "476c7784",
   "metadata": {},
   "outputs": [
    {
     "data": {
      "text/plain": [
       "3.3333333333333335"
      ]
     },
     "execution_count": 2,
     "metadata": {},
     "output_type": "execute_result"
    }
   ],
   "source": [
    "# This will convert 200 minutes to hours by diving by 60\n",
    "200/60"
   ]
  },
  {
   "cell_type": "markdown",
   "id": "dbab2ff8",
   "metadata": {},
   "source": [
    "list Objectives"
   ]
  },
  {
   "cell_type": "markdown",
   "id": "74a67864",
   "metadata": {},
   "source": [
    "**Objectives:**\n",
    "- List popular languages for Data Science\n",
    "- List commonly used libraries used by Data Scientists\n",
    "- List open source Data Science tools"
   ]
  },
  {
   "cell_type": "markdown",
   "id": "6737914a",
   "metadata": {},
   "source": [
    "Author's name"
   ]
  },
  {
   "cell_type": "markdown",
   "id": "66d4a283",
   "metadata": {},
   "source": [
    "## Author\n",
    "Sattar Pourkand"
   ]
  },
  {
   "cell_type": "code",
   "execution_count": null,
   "id": "7d7b7660",
   "metadata": {},
   "outputs": [],
   "source": []
  }
 ],
 "metadata": {
  "kernelspec": {
   "display_name": "Python 3 (ipykernel)",
   "language": "python",
   "name": "python3"
  },
  "language_info": {
   "codemirror_mode": {
    "name": "ipython",
    "version": 3
   },
   "file_extension": ".py",
   "mimetype": "text/x-python",
   "name": "python",
   "nbconvert_exporter": "python",
   "pygments_lexer": "ipython3",
   "version": "3.11.4"
  }
 },
 "nbformat": 4,
 "nbformat_minor": 5
}
